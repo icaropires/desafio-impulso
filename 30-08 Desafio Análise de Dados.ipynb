{
 "cells": [
  {
   "cell_type": "markdown",
   "metadata": {},
   "source": [
    "# Desafio de Análise de Dados - Impulso-GOV"
   ]
  },
  {
   "cell_type": "markdown",
   "metadata": {},
   "source": [
    "## Cenário\n",
    "\n",
    "Apresentar informações sobre o estado de um município, com relação à COVID-19, a um gestor público, de forma que ele tenha informações suficientes para tomar decisões estratégicas. Para isso serão utilizados dados de indicadores já presentes no [FarolCovid](https://farolcovid.coronacidades.org/), além de outros indicadores que serão calculados aqui."
   ]
  },
  {
   "cell_type": "markdown",
   "metadata": {},
   "source": [
    "## Possíveis decisões da gestão\n",
    "\n",
    "Ao lado de medidas educativas e humanitárias, algumas das principais medidas que um gestor de munício poderia tomar relativas ao combate à COVID-19 seriam:\n",
    "\n",
    "1. Imposição de confinamento\n",
    "2. Aquisição de mais testes\n",
    "3. Controle da abertura de setores do comércio\n",
    "4. Rigidez no controle de entrada de pessoas no munícipio\n",
    "\n",
    "No Farol, acredito que indicadores relacionados as primeiras três decisões já estão muito bem calculados e apresentados. Então, no sentido de realizar uma análise mais útil, farei uma apresentação dos dados mais focada na quarta decisão **\"Rigidez no controle de entrada de pessoas no munícipio\"**, através de uma comparação facilitada entre municípios próximos fisicamente ao de interesse."
   ]
  },
  {
   "cell_type": "markdown",
   "metadata": {},
   "source": [
    "## Comparação com municípios próximos"
   ]
  },
  {
   "cell_type": "markdown",
   "metadata": {},
   "source": [
    "### Lendo e preparando dados do FarolCovid"
   ]
  },
  {
   "cell_type": "code",
   "execution_count": 1,
   "metadata": {},
   "outputs": [],
   "source": [
    "import pandas as pd\n",
    "\n",
    "\n",
    "df = pd.read_csv('http://datasource.coronacidades.org/br/cities/farolcovid/main')\n",
    "\n",
    "# Nessa análise, faremos quase todas as buscas por estado e cidade, então utilizá-los\n",
    "# como índice para melhor performance\n",
    "df.set_index(['state_id', 'city_name'], inplace=True)\n",
    "df.sort_index(inplace=True)"
   ]
  },
  {
   "cell_type": "markdown",
   "metadata": {},
   "source": [
    "### Preparando funções de cálculos geográficos\n",
    "\n",
    "Serão analisados grupos de municípios delimitados pela região geográfica, utilizando para isso informações de suas coordenas. Logo, a **proximidade será medida em linha reta**, num raio predeterminado posteriomente, **em quilômetros**. Nessa seção serão implementadas as funções que facilitarão essa tarefa, utilizando como auxílio os dados de coordenadas disponibilizados neste [repositório](https://github.com/kelvins/Municipios-Brasileiros)."
   ]
  },
  {
   "cell_type": "code",
   "execution_count": 2,
   "metadata": {},
   "outputs": [],
   "source": [
    "import pandas as pd\n",
    "from geopy.distance import distance  # Para converter de coordenadas para quilômetros\n",
    "\n",
    "\n",
    "df_states = pd.read_csv('https://raw.githubusercontent.com/kelvins/Municipios-Brasileiros/master/csv/estados.csv')\n",
    "stateabbr_to_code = df_states.set_index('codigo_uf')['uf'].to_dict()  # Útil para transformações do código IBGE do estado para sua sigla\n",
    "\n",
    "# Preparando DataFrame de coordenadas dos municípios utilizando a sigla do estado ao invés de código IBGE \n",
    "df_geo = pd.read_csv('https://raw.githubusercontent.com/kelvins/Municipios-Brasileiros/master/csv/municipios.csv')\n",
    "df_geo['uf'] = df_geo['codigo_uf'].map(stateabbr_to_code)\n",
    "df_geo.pop('codigo_uf')\n",
    "\n",
    "# Utilizando estado e nome da cidade como índice, da mesma forma que no DataFrame principal\n",
    "df_geo.set_index(['uf', 'nome'], inplace=True)\n",
    "df_geo.sort_index(inplace=True)\n",
    "\n",
    "\n",
    "# Desempenho pode ainda ser melhorado nessa função, utilizando um dicionário com informações dos estados\n",
    "# que fazem fronteiras e com memoization. Mas não é importante agora.\n",
    "def get_distances(state_abbr, city_name):\n",
    "    '''\n",
    "    Return distances from all Brazilian cities to a chosen one. \n",
    "    '''\n",
    "    city = df_geo.loc[state_abbr, city_name]\n",
    "    city_coords = city[['latitude', 'longitude']]\n",
    "\n",
    "    def get_distance(row):\n",
    "        this_coords = row[['latitude', 'longitude']]\n",
    "        return distance(city_coords, this_coords).km\n",
    "        \n",
    "    distances = df_geo.apply(get_distance, axis='columns')\n",
    "    distances.sort_values(inplace=True)\n",
    "    \n",
    "    return distances.rename('distance')\n",
    "\n",
    "\n",
    "def get_nearby_cities(state_abbr, city_name, radius_km):\n",
    "    \"\"\" Returns cities closer than 'radius_km' from a chosen one.  \"\"\"\n",
    "    \n",
    "    distances = get_distances(state_abbr, city_name)\n",
    "    distances = distances[distances <= radius_km]\n",
    "    \n",
    "    return distances.index"
   ]
  },
  {
   "cell_type": "markdown",
   "metadata": {},
   "source": [
    "### Escolhendo cidade e raio de análise"
   ]
  },
  {
   "cell_type": "code",
   "execution_count": 3,
   "metadata": {},
   "outputs": [
    {
     "data": {
      "text/plain": [
       "MultiIndex([('MT',        'Barra do Garças'),\n",
       "            ('GO',              'Aragarças'),\n",
       "            ('MT',     'Pontal do Araguaia'),\n",
       "            ('GO',    'Bom Jardim de Goiás'),\n",
       "            ('GO',                 'Baliza'),\n",
       "            ('MT',              'Torixoréu'),\n",
       "            ('MT',             'Araguaiana'),\n",
       "            ('MT',       'General Carneiro'),\n",
       "            ('GO',               'Piranhas'),\n",
       "            ('MT',          'Ribeirãozinho'),\n",
       "            ('GO',            'Doverlândia'),\n",
       "            ('GO', 'Montes Claros de Goiás'),\n",
       "            ('GO',             'Arenópolis')],\n",
       "           names=['uf', 'nome'])"
      ]
     },
     "execution_count": 3,
     "metadata": {},
     "output_type": "execute_result"
    }
   ],
   "source": [
    "state, city = 'MT', 'Barra do Garças'  # A cidade escolhida para a análise\n",
    "radius_km = 100  # Cidades dentro desse raio, em km, em linha reta, serão consideradas na análise\n",
    "\n",
    "nearby_cities = get_nearby_cities(state, city, radius_km)\n",
    "nearby_cities  # Cidades dentro do raio especificado, a partir da escolhida"
   ]
  },
  {
   "cell_type": "markdown",
   "metadata": {},
   "source": [
    "### Coletando dados de interese do DataFrame e colocando em estrutura de dados conveniente para plotagem"
   ]
  },
  {
   "cell_type": "code",
   "execution_count": 4,
   "metadata": {},
   "outputs": [
    {
     "data": {
      "text/plain": [
       "defaultdict(list,\n",
       "            {'contagious_rate': array([0.        , 1.15428571, 0.        , 1.02285714, 0.        ,\n",
       "                    0.        , 0.        , 0.        , 1.03714286, 0.        ,\n",
       "                    0.        , 0.        , 0.        ]),\n",
       "             'isolation': array([0.4047585 , 0.38191561, 0.33950196, 0.        , 0.        ,\n",
       "                    0.        , 0.        , 0.        , 0.3441966 , 0.        ,\n",
       "                    0.        , 0.41892045, 0.        ]),\n",
       "             'active_cases': array([1.343e+03, 1.160e+02, 9.100e+01, 1.600e+01, 1.000e+00, 3.000e+01,\n",
       "                    2.300e+01, 4.900e+01, 3.600e+01, 0.000e+00, 1.000e+00, 3.400e+01,\n",
       "                    1.000e+00]),\n",
       "             'population': array([61012, 20118,  6711,  8841,  5138,  3609,  3100,  5540, 10385,\n",
       "                     2405,  7322,  8055,  2612])})"
      ]
     },
     "execution_count": 4,
     "metadata": {},
     "output_type": "execute_result"
    }
   ],
   "source": [
    "import numpy as np\n",
    "from collections import defaultdict\n",
    "\n",
    "\n",
    "def get_city_name(state, city):\n",
    "    ''' Get formatted name for the city'''\n",
    "    return f'{city} - {state}'\n",
    "\n",
    "\n",
    "def get_city_infos(state, city):\n",
    "    ''' Returns information (the chosen features) about the cities'''\n",
    "    city_row = df.loc[state, city]\n",
    "\n",
    "    return [\n",
    "        ('contagious_rate', city_row['rt_10days_ago_avg']),\n",
    "        ('isolation', city_row['inloco_today_7days_avg']),\n",
    "        ('active_cases', city_row['active_cases']),\n",
    "        ('population', city_row['population']),\n",
    "    ]\n",
    "\n",
    "# Títulos descritivos das features, serão utilizados como legenda\n",
    "feature_to_title = {\n",
    "    'active_cases': 'Casos Ativos',\n",
    "    'contagious_rate': 'Ritmo de Contágio (Media última semana)',\n",
    "    'isolation': 'Taxa de Isolamento (Média última semana)',\n",
    "    'population': 'População (2019)',\n",
    "}\n",
    "\n",
    "# Irá conter os nomes e valores das features para plotagem\n",
    "cities_infos = defaultdict(list)\n",
    "\n",
    "for city_state in nearby_cities:\n",
    "    try:\n",
    "        infos = get_city_infos(*city_state)\n",
    "    except KeyError:\n",
    "        print(f'=> Cidade {get_city_name(*city_state)} não econtrada nos dados!')\n",
    "        continue\n",
    "        \n",
    "    for name, value in get_city_infos(*city_state):\n",
    "        cities_infos[name].append(value)\n",
    "        \n",
    "for name, values in cities_infos.items():\n",
    "    cities_infos[name] = np.asarray(values)  # Convertando listas para array, para realização de operações vetorizadas\n",
    "    cities_infos[name] = np.nan_to_num(cities_infos[name])  # Para plotagem, valores faltantes serão plotados como 0 (invisíveis, nesse caso)\n",
    "    \n",
    "cities = [get_city_name(*state_city) for state_city in nearby_cities]  # Nomes formatados das cidades\n",
    "cities_infos  # Dados das cidades próximas"
   ]
  },
  {
   "cell_type": "markdown",
   "metadata": {},
   "source": [
    "### Gerando feature(s) derivadas (das retiradas diretamente do Farol)"
   ]
  },
  {
   "cell_type": "code",
   "execution_count": 5,
   "metadata": {},
   "outputs": [],
   "source": [
    "# Define escala do dado que será plotado. Ex: 1 infectado a cada 200 habitantes\n",
    "INFECTED_GROUP = 200\n",
    "    \n",
    "# Títulos das features derivadas das anteriores, mantendo separado suas definições propositalmente    \n",
    "new_titles = {\n",
    "    'infected_rate': f'Infectados (a cada {INFECTED_GROUP} habitantes)'  # Aproximadamente, porque é a população de 2019\n",
    "}\n",
    "feature_to_title.update(new_titles)\n",
    "    \n",
    "# Calcula taxa de infectados, pois a escala se aproxima melhor das outras features do que utilizando \"casos ativos\" e \"população\" diretamente,\n",
    "#   então a visualização se tornará melhor\n",
    "cities_infos['infected_rate'] = cities_infos['active_cases'] / cities_infos['population'] * INFECTED_GROUP\n",
    "cities_infos.pop('active_cases')\n",
    "_ = cities_infos.pop('population')"
   ]
  },
  {
   "cell_type": "markdown",
   "metadata": {},
   "source": [
    "### Verificando intervalos e limitações do dado"
   ]
  },
  {
   "cell_type": "code",
   "execution_count": 6,
   "metadata": {},
   "outputs": [
    {
     "name": "stdout",
     "output_type": "stream",
     "text": [
      "Intervalos dos valores:\n",
      "\tcontagious_rate interval: [0.0, 1.1542857142857137]\n",
      "\tisolation interval: [0.0, 0.4189204472468333]\n",
      "\tinfected_rate interval: [0.0, 4.402412640136367]\n",
      "\n",
      "Cidades comparadas:\n",
      "\t Barra do Garças - MT, Aragarças - GO, Pontal do Araguaia - MT, Bom Jardim de Goiás - GO, Baliza - GO, Torixoréu - MT, Araguaiana - MT, General Carneiro - MT, Piranhas - GO, Ribeirãozinho - MT, Doverlândia - GO, Montes Claros de Goiás - GO, Arenópolis - GO\n",
      "\n",
      "Duplicações no índice:\n",
      "\tO DataFrame principal possui um total de 0 em seu índice\n",
      "\n",
      "O DataFrame principal possui um total de 2664 valores faltantes de um total de 5570 para as colunas de interesse:\n",
      "\tactive_cases, population, rt_10days_ago_avg, inloco_today_7days_avg\n"
     ]
    }
   ],
   "source": [
    "import numpy as np\n",
    "\n",
    "\n",
    "# Checando intervalos de valores das features, devem ser próximos para gerar uma melhor experiência ao ser ler o gráfico.\n",
    "#   Poderia também usar escala logarítmica ou outro tipo de normalização, mas, com a abordagem atual, o entedimento do gráfico\n",
    "#   se torna de mais fácil a qualquer tipo de gestor\n",
    "print('Intervalos dos valores:')\n",
    "for name, values in cities_infos.items():\n",
    "    values = np.nan_to_num(values)\n",
    "    print(f'\\t{name} interval: [{values.min()}, {values.max()}]')\n",
    "    \n",
    "print()\n",
    "print('Cidades comparadas:\\n\\t', ', '.join(cities))  # Checando novamente a lista das cidades que serão comparadas\n",
    "\n",
    "print()\n",
    "print('Duplicações no índice:')\n",
    "num_duplications = df.index.shape[0] - df.index.drop_duplicates().shape[0] \n",
    "print(f'\\tO DataFrame principal possui um total de {num_duplications} em seu índice')\n",
    "\n",
    "print()\n",
    "columns = ['active_cases', 'population', 'rt_10days_ago_avg', 'inloco_today_7days_avg']\n",
    "total_columns = df[columns].shape[0]\n",
    "num_missing = total_columns - df[columns].dropna().shape[0]\n",
    "print(f'O DataFrame principal possui um total de {num_missing} valores faltantes de um total de {total_columns} para as colunas de interesse:')\n",
    "print('\\t' + ', '.join(columns))\n",
    "\n",
    "# Número alto de valores faltantes considerando a união das colunas, porém esse problema não será tão relevante para esta análise, isso só limitará alguns tipos\n",
    "#   de análises em algumas regiões especificas. Com a análise que será feita, ainda poderão ser avaliadas parcialmente algumas regiões e completamente outras."
   ]
  },
  {
   "cell_type": "markdown",
   "metadata": {},
   "source": [
    "### Plotando visualização geral da situação dos municípios próximos"
   ]
  },
  {
   "cell_type": "code",
   "execution_count": 7,
   "metadata": {},
   "outputs": [
    {
     "data": {
      "text/html": [
       "        <script type=\"text/javascript\">\n",
       "        window.PlotlyConfig = {MathJaxConfig: 'local'};\n",
       "        if (window.MathJax) {MathJax.Hub.Config({SVG: {font: \"STIX-Web\"}});}\n",
       "        if (typeof require !== 'undefined') {\n",
       "        require.undef(\"plotly\");\n",
       "        requirejs.config({\n",
       "            paths: {\n",
       "                'plotly': ['https://cdn.plot.ly/plotly-latest.min']\n",
       "            }\n",
       "        });\n",
       "        require(['plotly'], function(Plotly) {\n",
       "            window._Plotly = Plotly;\n",
       "        });\n",
       "        }\n",
       "        </script>\n",
       "        "
      ]
     },
     "metadata": {},
     "output_type": "display_data"
    },
    {
     "data": {
      "application/vnd.plotly.v1+json": {
       "config": {
        "plotlyServerURL": "https://plot.ly"
       },
       "data": [
        {
         "name": "Ritmo de Contágio (Media última semana)",
         "type": "bar",
         "x": [
          "Barra do Garças - MT",
          "Aragarças - GO",
          "Pontal do Araguaia - MT",
          "Bom Jardim de Goiás - GO",
          "Baliza - GO",
          "Torixoréu - MT",
          "Araguaiana - MT",
          "General Carneiro - MT",
          "Piranhas - GO",
          "Ribeirãozinho - MT",
          "Doverlândia - GO",
          "Montes Claros de Goiás - GO",
          "Arenópolis - GO"
         ],
         "y": [
          0,
          1.1542857142857137,
          0,
          1.0228571428571436,
          0,
          0,
          0,
          0,
          1.0371428571428578,
          0,
          0,
          0,
          0
         ]
        },
        {
         "name": "Taxa de Isolamento (Média última semana)",
         "type": "bar",
         "x": [
          "Barra do Garças - MT",
          "Aragarças - GO",
          "Pontal do Araguaia - MT",
          "Bom Jardim de Goiás - GO",
          "Baliza - GO",
          "Torixoréu - MT",
          "Araguaiana - MT",
          "General Carneiro - MT",
          "Piranhas - GO",
          "Ribeirãozinho - MT",
          "Doverlândia - GO",
          "Montes Claros de Goiás - GO",
          "Arenópolis - GO"
         ],
         "y": [
          0.4047585011648935,
          0.3819156064685614,
          0.3395019601788537,
          0,
          0,
          0,
          0,
          0,
          0.34419660042312755,
          0,
          0,
          0.4189204472468333,
          0
         ]
        },
        {
         "name": "Infectados (a cada 200 habitantes)",
         "type": "bar",
         "x": [
          "Barra do Garças - MT",
          "Aragarças - GO",
          "Pontal do Araguaia - MT",
          "Bom Jardim de Goiás - GO",
          "Baliza - GO",
          "Torixoréu - MT",
          "Araguaiana - MT",
          "General Carneiro - MT",
          "Piranhas - GO",
          "Ribeirãozinho - MT",
          "Doverlândia - GO",
          "Montes Claros de Goiás - GO",
          "Arenópolis - GO"
         ],
         "y": [
          4.402412640136367,
          1.1531961427577293,
          2.7119654298912237,
          0.3619500056554688,
          0.038925652004671074,
          1.6625103906899419,
          1.4838709677419355,
          1.768953068592058,
          0.693307655272027,
          0,
          0.027314941272876262,
          0.8441961514587213,
          0.0765696784073507
         ]
        }
       ],
       "layout": {
        "autosize": true,
        "bargap": 0.4,
        "barmode": "group",
        "font": {
         "family": "Courier New, monospace",
         "size": 12
        },
        "legend": {
         "orientation": "h",
         "x": 1,
         "xanchor": "right",
         "y": 1,
         "yanchor": "bottom"
        },
        "template": {
         "data": {
          "bar": [
           {
            "error_x": {
             "color": "#2a3f5f"
            },
            "error_y": {
             "color": "#2a3f5f"
            },
            "marker": {
             "line": {
              "color": "#E5ECF6",
              "width": 0.5
             }
            },
            "type": "bar"
           }
          ],
          "barpolar": [
           {
            "marker": {
             "line": {
              "color": "#E5ECF6",
              "width": 0.5
             }
            },
            "type": "barpolar"
           }
          ],
          "carpet": [
           {
            "aaxis": {
             "endlinecolor": "#2a3f5f",
             "gridcolor": "white",
             "linecolor": "white",
             "minorgridcolor": "white",
             "startlinecolor": "#2a3f5f"
            },
            "baxis": {
             "endlinecolor": "#2a3f5f",
             "gridcolor": "white",
             "linecolor": "white",
             "minorgridcolor": "white",
             "startlinecolor": "#2a3f5f"
            },
            "type": "carpet"
           }
          ],
          "choropleth": [
           {
            "colorbar": {
             "outlinewidth": 0,
             "ticks": ""
            },
            "type": "choropleth"
           }
          ],
          "contour": [
           {
            "colorbar": {
             "outlinewidth": 0,
             "ticks": ""
            },
            "colorscale": [
             [
              0,
              "#0d0887"
             ],
             [
              0.1111111111111111,
              "#46039f"
             ],
             [
              0.2222222222222222,
              "#7201a8"
             ],
             [
              0.3333333333333333,
              "#9c179e"
             ],
             [
              0.4444444444444444,
              "#bd3786"
             ],
             [
              0.5555555555555556,
              "#d8576b"
             ],
             [
              0.6666666666666666,
              "#ed7953"
             ],
             [
              0.7777777777777778,
              "#fb9f3a"
             ],
             [
              0.8888888888888888,
              "#fdca26"
             ],
             [
              1,
              "#f0f921"
             ]
            ],
            "type": "contour"
           }
          ],
          "contourcarpet": [
           {
            "colorbar": {
             "outlinewidth": 0,
             "ticks": ""
            },
            "type": "contourcarpet"
           }
          ],
          "heatmap": [
           {
            "colorbar": {
             "outlinewidth": 0,
             "ticks": ""
            },
            "colorscale": [
             [
              0,
              "#0d0887"
             ],
             [
              0.1111111111111111,
              "#46039f"
             ],
             [
              0.2222222222222222,
              "#7201a8"
             ],
             [
              0.3333333333333333,
              "#9c179e"
             ],
             [
              0.4444444444444444,
              "#bd3786"
             ],
             [
              0.5555555555555556,
              "#d8576b"
             ],
             [
              0.6666666666666666,
              "#ed7953"
             ],
             [
              0.7777777777777778,
              "#fb9f3a"
             ],
             [
              0.8888888888888888,
              "#fdca26"
             ],
             [
              1,
              "#f0f921"
             ]
            ],
            "type": "heatmap"
           }
          ],
          "heatmapgl": [
           {
            "colorbar": {
             "outlinewidth": 0,
             "ticks": ""
            },
            "colorscale": [
             [
              0,
              "#0d0887"
             ],
             [
              0.1111111111111111,
              "#46039f"
             ],
             [
              0.2222222222222222,
              "#7201a8"
             ],
             [
              0.3333333333333333,
              "#9c179e"
             ],
             [
              0.4444444444444444,
              "#bd3786"
             ],
             [
              0.5555555555555556,
              "#d8576b"
             ],
             [
              0.6666666666666666,
              "#ed7953"
             ],
             [
              0.7777777777777778,
              "#fb9f3a"
             ],
             [
              0.8888888888888888,
              "#fdca26"
             ],
             [
              1,
              "#f0f921"
             ]
            ],
            "type": "heatmapgl"
           }
          ],
          "histogram": [
           {
            "marker": {
             "colorbar": {
              "outlinewidth": 0,
              "ticks": ""
             }
            },
            "type": "histogram"
           }
          ],
          "histogram2d": [
           {
            "colorbar": {
             "outlinewidth": 0,
             "ticks": ""
            },
            "colorscale": [
             [
              0,
              "#0d0887"
             ],
             [
              0.1111111111111111,
              "#46039f"
             ],
             [
              0.2222222222222222,
              "#7201a8"
             ],
             [
              0.3333333333333333,
              "#9c179e"
             ],
             [
              0.4444444444444444,
              "#bd3786"
             ],
             [
              0.5555555555555556,
              "#d8576b"
             ],
             [
              0.6666666666666666,
              "#ed7953"
             ],
             [
              0.7777777777777778,
              "#fb9f3a"
             ],
             [
              0.8888888888888888,
              "#fdca26"
             ],
             [
              1,
              "#f0f921"
             ]
            ],
            "type": "histogram2d"
           }
          ],
          "histogram2dcontour": [
           {
            "colorbar": {
             "outlinewidth": 0,
             "ticks": ""
            },
            "colorscale": [
             [
              0,
              "#0d0887"
             ],
             [
              0.1111111111111111,
              "#46039f"
             ],
             [
              0.2222222222222222,
              "#7201a8"
             ],
             [
              0.3333333333333333,
              "#9c179e"
             ],
             [
              0.4444444444444444,
              "#bd3786"
             ],
             [
              0.5555555555555556,
              "#d8576b"
             ],
             [
              0.6666666666666666,
              "#ed7953"
             ],
             [
              0.7777777777777778,
              "#fb9f3a"
             ],
             [
              0.8888888888888888,
              "#fdca26"
             ],
             [
              1,
              "#f0f921"
             ]
            ],
            "type": "histogram2dcontour"
           }
          ],
          "mesh3d": [
           {
            "colorbar": {
             "outlinewidth": 0,
             "ticks": ""
            },
            "type": "mesh3d"
           }
          ],
          "parcoords": [
           {
            "line": {
             "colorbar": {
              "outlinewidth": 0,
              "ticks": ""
             }
            },
            "type": "parcoords"
           }
          ],
          "pie": [
           {
            "automargin": true,
            "type": "pie"
           }
          ],
          "scatter": [
           {
            "marker": {
             "colorbar": {
              "outlinewidth": 0,
              "ticks": ""
             }
            },
            "type": "scatter"
           }
          ],
          "scatter3d": [
           {
            "line": {
             "colorbar": {
              "outlinewidth": 0,
              "ticks": ""
             }
            },
            "marker": {
             "colorbar": {
              "outlinewidth": 0,
              "ticks": ""
             }
            },
            "type": "scatter3d"
           }
          ],
          "scattercarpet": [
           {
            "marker": {
             "colorbar": {
              "outlinewidth": 0,
              "ticks": ""
             }
            },
            "type": "scattercarpet"
           }
          ],
          "scattergeo": [
           {
            "marker": {
             "colorbar": {
              "outlinewidth": 0,
              "ticks": ""
             }
            },
            "type": "scattergeo"
           }
          ],
          "scattergl": [
           {
            "marker": {
             "colorbar": {
              "outlinewidth": 0,
              "ticks": ""
             }
            },
            "type": "scattergl"
           }
          ],
          "scattermapbox": [
           {
            "marker": {
             "colorbar": {
              "outlinewidth": 0,
              "ticks": ""
             }
            },
            "type": "scattermapbox"
           }
          ],
          "scatterpolar": [
           {
            "marker": {
             "colorbar": {
              "outlinewidth": 0,
              "ticks": ""
             }
            },
            "type": "scatterpolar"
           }
          ],
          "scatterpolargl": [
           {
            "marker": {
             "colorbar": {
              "outlinewidth": 0,
              "ticks": ""
             }
            },
            "type": "scatterpolargl"
           }
          ],
          "scatterternary": [
           {
            "marker": {
             "colorbar": {
              "outlinewidth": 0,
              "ticks": ""
             }
            },
            "type": "scatterternary"
           }
          ],
          "surface": [
           {
            "colorbar": {
             "outlinewidth": 0,
             "ticks": ""
            },
            "colorscale": [
             [
              0,
              "#0d0887"
             ],
             [
              0.1111111111111111,
              "#46039f"
             ],
             [
              0.2222222222222222,
              "#7201a8"
             ],
             [
              0.3333333333333333,
              "#9c179e"
             ],
             [
              0.4444444444444444,
              "#bd3786"
             ],
             [
              0.5555555555555556,
              "#d8576b"
             ],
             [
              0.6666666666666666,
              "#ed7953"
             ],
             [
              0.7777777777777778,
              "#fb9f3a"
             ],
             [
              0.8888888888888888,
              "#fdca26"
             ],
             [
              1,
              "#f0f921"
             ]
            ],
            "type": "surface"
           }
          ],
          "table": [
           {
            "cells": {
             "fill": {
              "color": "#EBF0F8"
             },
             "line": {
              "color": "white"
             }
            },
            "header": {
             "fill": {
              "color": "#C8D4E3"
             },
             "line": {
              "color": "white"
             }
            },
            "type": "table"
           }
          ]
         },
         "layout": {
          "annotationdefaults": {
           "arrowcolor": "#2a3f5f",
           "arrowhead": 0,
           "arrowwidth": 1
          },
          "coloraxis": {
           "colorbar": {
            "outlinewidth": 0,
            "ticks": ""
           }
          },
          "colorscale": {
           "diverging": [
            [
             0,
             "#8e0152"
            ],
            [
             0.1,
             "#c51b7d"
            ],
            [
             0.2,
             "#de77ae"
            ],
            [
             0.3,
             "#f1b6da"
            ],
            [
             0.4,
             "#fde0ef"
            ],
            [
             0.5,
             "#f7f7f7"
            ],
            [
             0.6,
             "#e6f5d0"
            ],
            [
             0.7,
             "#b8e186"
            ],
            [
             0.8,
             "#7fbc41"
            ],
            [
             0.9,
             "#4d9221"
            ],
            [
             1,
             "#276419"
            ]
           ],
           "sequential": [
            [
             0,
             "#0d0887"
            ],
            [
             0.1111111111111111,
             "#46039f"
            ],
            [
             0.2222222222222222,
             "#7201a8"
            ],
            [
             0.3333333333333333,
             "#9c179e"
            ],
            [
             0.4444444444444444,
             "#bd3786"
            ],
            [
             0.5555555555555556,
             "#d8576b"
            ],
            [
             0.6666666666666666,
             "#ed7953"
            ],
            [
             0.7777777777777778,
             "#fb9f3a"
            ],
            [
             0.8888888888888888,
             "#fdca26"
            ],
            [
             1,
             "#f0f921"
            ]
           ],
           "sequentialminus": [
            [
             0,
             "#0d0887"
            ],
            [
             0.1111111111111111,
             "#46039f"
            ],
            [
             0.2222222222222222,
             "#7201a8"
            ],
            [
             0.3333333333333333,
             "#9c179e"
            ],
            [
             0.4444444444444444,
             "#bd3786"
            ],
            [
             0.5555555555555556,
             "#d8576b"
            ],
            [
             0.6666666666666666,
             "#ed7953"
            ],
            [
             0.7777777777777778,
             "#fb9f3a"
            ],
            [
             0.8888888888888888,
             "#fdca26"
            ],
            [
             1,
             "#f0f921"
            ]
           ]
          },
          "colorway": [
           "#636efa",
           "#EF553B",
           "#00cc96",
           "#ab63fa",
           "#FFA15A",
           "#19d3f3",
           "#FF6692",
           "#B6E880",
           "#FF97FF",
           "#FECB52"
          ],
          "font": {
           "color": "#2a3f5f"
          },
          "geo": {
           "bgcolor": "white",
           "lakecolor": "white",
           "landcolor": "#E5ECF6",
           "showlakes": true,
           "showland": true,
           "subunitcolor": "white"
          },
          "hoverlabel": {
           "align": "left"
          },
          "hovermode": "closest",
          "mapbox": {
           "style": "light"
          },
          "paper_bgcolor": "white",
          "plot_bgcolor": "#E5ECF6",
          "polar": {
           "angularaxis": {
            "gridcolor": "white",
            "linecolor": "white",
            "ticks": ""
           },
           "bgcolor": "#E5ECF6",
           "radialaxis": {
            "gridcolor": "white",
            "linecolor": "white",
            "ticks": ""
           }
          },
          "scene": {
           "xaxis": {
            "backgroundcolor": "#E5ECF6",
            "gridcolor": "white",
            "gridwidth": 2,
            "linecolor": "white",
            "showbackground": true,
            "ticks": "",
            "zerolinecolor": "white"
           },
           "yaxis": {
            "backgroundcolor": "#E5ECF6",
            "gridcolor": "white",
            "gridwidth": 2,
            "linecolor": "white",
            "showbackground": true,
            "ticks": "",
            "zerolinecolor": "white"
           },
           "zaxis": {
            "backgroundcolor": "#E5ECF6",
            "gridcolor": "white",
            "gridwidth": 2,
            "linecolor": "white",
            "showbackground": true,
            "ticks": "",
            "zerolinecolor": "white"
           }
          },
          "shapedefaults": {
           "line": {
            "color": "#2a3f5f"
           }
          },
          "ternary": {
           "aaxis": {
            "gridcolor": "white",
            "linecolor": "white",
            "ticks": ""
           },
           "baxis": {
            "gridcolor": "white",
            "linecolor": "white",
            "ticks": ""
           },
           "bgcolor": "#E5ECF6",
           "caxis": {
            "gridcolor": "white",
            "linecolor": "white",
            "ticks": ""
           }
          },
          "title": {
           "x": 0.05
          },
          "xaxis": {
           "automargin": true,
           "gridcolor": "white",
           "linecolor": "white",
           "ticks": "",
           "title": {
            "standoff": 15
           },
           "zerolinecolor": "white",
           "zerolinewidth": 2
          },
          "yaxis": {
           "automargin": true,
           "gridcolor": "white",
           "linecolor": "white",
           "ticks": "",
           "title": {
            "standoff": 15
           },
           "zerolinecolor": "white",
           "zerolinewidth": 2
          }
         }
        },
        "title": {
         "text": "Comparação de Barra do Garças com Cidades Próximas (Raio de 100 km)",
         "x": 0.5
        },
        "xaxis": {
         "autorange": true,
         "range": [
          -0.5,
          12.5
         ],
         "tickangle": -30,
         "title": {
          "text": "Cidades Próximas à Barra do Garças"
         },
         "type": "category"
        },
        "yaxis": {
         "autorange": true,
         "range": [
          0,
          4.634118568564597
         ],
         "title": {
          "text": "Valor"
         },
         "type": "linear"
        }
       }
      },
      "image/png": "[encoded data removed]",
      "text/html": [
       "<div>\n",
       "        \n",
       "        \n",
       "            <div id=\"0139fd37-41c3-4b40-a0c5-ef60315e77dd\" class=\"plotly-graph-div\" style=\"height:525px; width:100%;\"></div>\n",
       "            <script type=\"text/javascript\">\n",
       "                require([\"plotly\"], function(Plotly) {\n",
       "                    window.PLOTLYENV=window.PLOTLYENV || {};\n",
       "                    \n",
       "                if (document.getElementById(\"0139fd37-41c3-4b40-a0c5-ef60315e77dd\")) {\n",
       "                    Plotly.newPlot(\n",
       "                        '0139fd37-41c3-4b40-a0c5-ef60315e77dd',\n",
       "                        [{\"name\": \"Ritmo de Cont\\u00e1gio (Media \\u00faltima semana)\", \"type\": \"bar\", \"x\": [\"Barra do Gar\\u00e7as - MT\", \"Aragar\\u00e7as - GO\", \"Pontal do Araguaia - MT\", \"Bom Jardim de Goi\\u00e1s - GO\", \"Baliza - GO\", \"Torixor\\u00e9u - MT\", \"Araguaiana - MT\", \"General Carneiro - MT\", \"Piranhas - GO\", \"Ribeir\\u00e3ozinho - MT\", \"Doverl\\u00e2ndia - GO\", \"Montes Claros de Goi\\u00e1s - GO\", \"Aren\\u00f3polis - GO\"], \"y\": [0.0, 1.1542857142857137, 0.0, 1.0228571428571436, 0.0, 0.0, 0.0, 0.0, 1.0371428571428578, 0.0, 0.0, 0.0, 0.0]}, {\"name\": \"Taxa de Isolamento (M\\u00e9dia \\u00faltima semana)\", \"type\": \"bar\", \"x\": [\"Barra do Gar\\u00e7as - MT\", \"Aragar\\u00e7as - GO\", \"Pontal do Araguaia - MT\", \"Bom Jardim de Goi\\u00e1s - GO\", \"Baliza - GO\", \"Torixor\\u00e9u - MT\", \"Araguaiana - MT\", \"General Carneiro - MT\", \"Piranhas - GO\", \"Ribeir\\u00e3ozinho - MT\", \"Doverl\\u00e2ndia - GO\", \"Montes Claros de Goi\\u00e1s - GO\", \"Aren\\u00f3polis - GO\"], \"y\": [0.4047585011648935, 0.3819156064685614, 0.3395019601788537, 0.0, 0.0, 0.0, 0.0, 0.0, 0.34419660042312755, 0.0, 0.0, 0.4189204472468333, 0.0]}, {\"name\": \"Infectados (a cada 200 habitantes)\", \"type\": \"bar\", \"x\": [\"Barra do Gar\\u00e7as - MT\", \"Aragar\\u00e7as - GO\", \"Pontal do Araguaia - MT\", \"Bom Jardim de Goi\\u00e1s - GO\", \"Baliza - GO\", \"Torixor\\u00e9u - MT\", \"Araguaiana - MT\", \"General Carneiro - MT\", \"Piranhas - GO\", \"Ribeir\\u00e3ozinho - MT\", \"Doverl\\u00e2ndia - GO\", \"Montes Claros de Goi\\u00e1s - GO\", \"Aren\\u00f3polis - GO\"], \"y\": [4.402412640136367, 1.1531961427577293, 2.7119654298912237, 0.3619500056554688, 0.038925652004671074, 1.6625103906899419, 1.4838709677419355, 1.768953068592058, 0.693307655272027, 0.0, 0.027314941272876262, 0.8441961514587213, 0.0765696784073507]}],\n",
       "                        {\"bargap\": 0.4, \"barmode\": \"group\", \"font\": {\"family\": \"Courier New, monospace\", \"size\": 12}, \"legend\": {\"orientation\": \"h\", \"x\": 1, \"xanchor\": \"right\", \"y\": 1, \"yanchor\": \"bottom\"}, \"template\": {\"data\": {\"bar\": [{\"error_x\": {\"color\": \"#2a3f5f\"}, \"error_y\": {\"color\": \"#2a3f5f\"}, \"marker\": {\"line\": {\"color\": \"#E5ECF6\", \"width\": 0.5}}, \"type\": \"bar\"}], \"barpolar\": [{\"marker\": {\"line\": {\"color\": \"#E5ECF6\", \"width\": 0.5}}, \"type\": \"barpolar\"}], \"carpet\": [{\"aaxis\": {\"endlinecolor\": \"#2a3f5f\", \"gridcolor\": \"white\", \"linecolor\": \"white\", \"minorgridcolor\": \"white\", \"startlinecolor\": \"#2a3f5f\"}, \"baxis\": {\"endlinecolor\": \"#2a3f5f\", \"gridcolor\": \"white\", \"linecolor\": \"white\", \"minorgridcolor\": \"white\", \"startlinecolor\": \"#2a3f5f\"}, \"type\": \"carpet\"}], \"choropleth\": [{\"colorbar\": {\"outlinewidth\": 0, \"ticks\": \"\"}, \"type\": \"choropleth\"}], \"contour\": [{\"colorbar\": {\"outlinewidth\": 0, \"ticks\": \"\"}, \"colorscale\": [[0.0, \"#0d0887\"], [0.1111111111111111, \"#46039f\"], [0.2222222222222222, \"#7201a8\"], [0.3333333333333333, \"#9c179e\"], [0.4444444444444444, \"#bd3786\"], [0.5555555555555556, \"#d8576b\"], [0.6666666666666666, \"#ed7953\"], [0.7777777777777778, \"#fb9f3a\"], [0.8888888888888888, \"#fdca26\"], [1.0, \"#f0f921\"]], \"type\": \"contour\"}], \"contourcarpet\": [{\"colorbar\": {\"outlinewidth\": 0, \"ticks\": \"\"}, \"type\": \"contourcarpet\"}], \"heatmap\": [{\"colorbar\": {\"outlinewidth\": 0, \"ticks\": \"\"}, \"colorscale\": [[0.0, \"#0d0887\"], [0.1111111111111111, \"#46039f\"], [0.2222222222222222, \"#7201a8\"], [0.3333333333333333, \"#9c179e\"], [0.4444444444444444, \"#bd3786\"], [0.5555555555555556, \"#d8576b\"], [0.6666666666666666, \"#ed7953\"], [0.7777777777777778, \"#fb9f3a\"], [0.8888888888888888, \"#fdca26\"], [1.0, \"#f0f921\"]], \"type\": \"heatmap\"}], \"heatmapgl\": [{\"colorbar\": {\"outlinewidth\": 0, \"ticks\": \"\"}, \"colorscale\": [[0.0, \"#0d0887\"], [0.1111111111111111, \"#46039f\"], [0.2222222222222222, \"#7201a8\"], [0.3333333333333333, \"#9c179e\"], [0.4444444444444444, \"#bd3786\"], [0.5555555555555556, \"#d8576b\"], [0.6666666666666666, \"#ed7953\"], [0.7777777777777778, \"#fb9f3a\"], [0.8888888888888888, \"#fdca26\"], [1.0, \"#f0f921\"]], \"type\": \"heatmapgl\"}], \"histogram\": [{\"marker\": {\"colorbar\": {\"outlinewidth\": 0, \"ticks\": \"\"}}, \"type\": \"histogram\"}], \"histogram2d\": [{\"colorbar\": {\"outlinewidth\": 0, \"ticks\": \"\"}, \"colorscale\": [[0.0, \"#0d0887\"], [0.1111111111111111, \"#46039f\"], [0.2222222222222222, \"#7201a8\"], [0.3333333333333333, \"#9c179e\"], [0.4444444444444444, \"#bd3786\"], [0.5555555555555556, \"#d8576b\"], [0.6666666666666666, \"#ed7953\"], [0.7777777777777778, \"#fb9f3a\"], [0.8888888888888888, \"#fdca26\"], [1.0, \"#f0f921\"]], \"type\": \"histogram2d\"}], \"histogram2dcontour\": [{\"colorbar\": {\"outlinewidth\": 0, \"ticks\": \"\"}, \"colorscale\": [[0.0, \"#0d0887\"], [0.1111111111111111, \"#46039f\"], [0.2222222222222222, \"#7201a8\"], [0.3333333333333333, \"#9c179e\"], [0.4444444444444444, \"#bd3786\"], [0.5555555555555556, \"#d8576b\"], [0.6666666666666666, \"#ed7953\"], [0.7777777777777778, \"#fb9f3a\"], [0.8888888888888888, \"#fdca26\"], [1.0, \"#f0f921\"]], \"type\": \"histogram2dcontour\"}], \"mesh3d\": [{\"colorbar\": {\"outlinewidth\": 0, \"ticks\": \"\"}, \"type\": \"mesh3d\"}], \"parcoords\": [{\"line\": {\"colorbar\": {\"outlinewidth\": 0, \"ticks\": \"\"}}, \"type\": \"parcoords\"}], \"pie\": [{\"automargin\": true, \"type\": \"pie\"}], \"scatter\": [{\"marker\": {\"colorbar\": {\"outlinewidth\": 0, \"ticks\": \"\"}}, \"type\": \"scatter\"}], \"scatter3d\": [{\"line\": {\"colorbar\": {\"outlinewidth\": 0, \"ticks\": \"\"}}, \"marker\": {\"colorbar\": {\"outlinewidth\": 0, \"ticks\": \"\"}}, \"type\": \"scatter3d\"}], \"scattercarpet\": [{\"marker\": {\"colorbar\": {\"outlinewidth\": 0, \"ticks\": \"\"}}, \"type\": \"scattercarpet\"}], \"scattergeo\": [{\"marker\": {\"colorbar\": {\"outlinewidth\": 0, \"ticks\": \"\"}}, \"type\": \"scattergeo\"}], \"scattergl\": [{\"marker\": {\"colorbar\": {\"outlinewidth\": 0, \"ticks\": \"\"}}, \"type\": \"scattergl\"}], \"scattermapbox\": [{\"marker\": {\"colorbar\": {\"outlinewidth\": 0, \"ticks\": \"\"}}, \"type\": \"scattermapbox\"}], \"scatterpolar\": [{\"marker\": {\"colorbar\": {\"outlinewidth\": 0, \"ticks\": \"\"}}, \"type\": \"scatterpolar\"}], \"scatterpolargl\": [{\"marker\": {\"colorbar\": {\"outlinewidth\": 0, \"ticks\": \"\"}}, \"type\": \"scatterpolargl\"}], \"scatterternary\": [{\"marker\": {\"colorbar\": {\"outlinewidth\": 0, \"ticks\": \"\"}}, \"type\": \"scatterternary\"}], \"surface\": [{\"colorbar\": {\"outlinewidth\": 0, \"ticks\": \"\"}, \"colorscale\": [[0.0, \"#0d0887\"], [0.1111111111111111, \"#46039f\"], [0.2222222222222222, \"#7201a8\"], [0.3333333333333333, \"#9c179e\"], [0.4444444444444444, \"#bd3786\"], [0.5555555555555556, \"#d8576b\"], [0.6666666666666666, \"#ed7953\"], [0.7777777777777778, \"#fb9f3a\"], [0.8888888888888888, \"#fdca26\"], [1.0, \"#f0f921\"]], \"type\": \"surface\"}], \"table\": [{\"cells\": {\"fill\": {\"color\": \"#EBF0F8\"}, \"line\": {\"color\": \"white\"}}, \"header\": {\"fill\": {\"color\": \"#C8D4E3\"}, \"line\": {\"color\": \"white\"}}, \"type\": \"table\"}]}, \"layout\": {\"annotationdefaults\": {\"arrowcolor\": \"#2a3f5f\", \"arrowhead\": 0, \"arrowwidth\": 1}, \"coloraxis\": {\"colorbar\": {\"outlinewidth\": 0, \"ticks\": \"\"}}, \"colorscale\": {\"diverging\": [[0, \"#8e0152\"], [0.1, \"#c51b7d\"], [0.2, \"#de77ae\"], [0.3, \"#f1b6da\"], [0.4, \"#fde0ef\"], [0.5, \"#f7f7f7\"], [0.6, \"#e6f5d0\"], [0.7, \"#b8e186\"], [0.8, \"#7fbc41\"], [0.9, \"#4d9221\"], [1, \"#276419\"]], \"sequential\": [[0.0, \"#0d0887\"], [0.1111111111111111, \"#46039f\"], [0.2222222222222222, \"#7201a8\"], [0.3333333333333333, \"#9c179e\"], [0.4444444444444444, \"#bd3786\"], [0.5555555555555556, \"#d8576b\"], [0.6666666666666666, \"#ed7953\"], [0.7777777777777778, \"#fb9f3a\"], [0.8888888888888888, \"#fdca26\"], [1.0, \"#f0f921\"]], \"sequentialminus\": [[0.0, \"#0d0887\"], [0.1111111111111111, \"#46039f\"], [0.2222222222222222, \"#7201a8\"], [0.3333333333333333, \"#9c179e\"], [0.4444444444444444, \"#bd3786\"], [0.5555555555555556, \"#d8576b\"], [0.6666666666666666, \"#ed7953\"], [0.7777777777777778, \"#fb9f3a\"], [0.8888888888888888, \"#fdca26\"], [1.0, \"#f0f921\"]]}, \"colorway\": [\"#636efa\", \"#EF553B\", \"#00cc96\", \"#ab63fa\", \"#FFA15A\", \"#19d3f3\", \"#FF6692\", \"#B6E880\", \"#FF97FF\", \"#FECB52\"], \"font\": {\"color\": \"#2a3f5f\"}, \"geo\": {\"bgcolor\": \"white\", \"lakecolor\": \"white\", \"landcolor\": \"#E5ECF6\", \"showlakes\": true, \"showland\": true, \"subunitcolor\": \"white\"}, \"hoverlabel\": {\"align\": \"left\"}, \"hovermode\": \"closest\", \"mapbox\": {\"style\": \"light\"}, \"paper_bgcolor\": \"white\", \"plot_bgcolor\": \"#E5ECF6\", \"polar\": {\"angularaxis\": {\"gridcolor\": \"white\", \"linecolor\": \"white\", \"ticks\": \"\"}, \"bgcolor\": \"#E5ECF6\", \"radialaxis\": {\"gridcolor\": \"white\", \"linecolor\": \"white\", \"ticks\": \"\"}}, \"scene\": {\"xaxis\": {\"backgroundcolor\": \"#E5ECF6\", \"gridcolor\": \"white\", \"gridwidth\": 2, \"linecolor\": \"white\", \"showbackground\": true, \"ticks\": \"\", \"zerolinecolor\": \"white\"}, \"yaxis\": {\"backgroundcolor\": \"#E5ECF6\", \"gridcolor\": \"white\", \"gridwidth\": 2, \"linecolor\": \"white\", \"showbackground\": true, \"ticks\": \"\", \"zerolinecolor\": \"white\"}, \"zaxis\": {\"backgroundcolor\": \"#E5ECF6\", \"gridcolor\": \"white\", \"gridwidth\": 2, \"linecolor\": \"white\", \"showbackground\": true, \"ticks\": \"\", \"zerolinecolor\": \"white\"}}, \"shapedefaults\": {\"line\": {\"color\": \"#2a3f5f\"}}, \"ternary\": {\"aaxis\": {\"gridcolor\": \"white\", \"linecolor\": \"white\", \"ticks\": \"\"}, \"baxis\": {\"gridcolor\": \"white\", \"linecolor\": \"white\", \"ticks\": \"\"}, \"bgcolor\": \"#E5ECF6\", \"caxis\": {\"gridcolor\": \"white\", \"linecolor\": \"white\", \"ticks\": \"\"}}, \"title\": {\"x\": 0.05}, \"xaxis\": {\"automargin\": true, \"gridcolor\": \"white\", \"linecolor\": \"white\", \"ticks\": \"\", \"title\": {\"standoff\": 15}, \"zerolinecolor\": \"white\", \"zerolinewidth\": 2}, \"yaxis\": {\"automargin\": true, \"gridcolor\": \"white\", \"linecolor\": \"white\", \"ticks\": \"\", \"title\": {\"standoff\": 15}, \"zerolinecolor\": \"white\", \"zerolinewidth\": 2}}}, \"title\": {\"text\": \"Compara\\u00e7\\u00e3o de Barra do Gar\\u00e7as com Cidades Pr\\u00f3ximas (Raio de 100 km)\", \"x\": 0.5}, \"xaxis\": {\"tickangle\": -30, \"title\": {\"text\": \"Cidades Pr\\u00f3ximas \\u00e0 Barra do Gar\\u00e7as\"}}, \"yaxis\": {\"title\": {\"text\": \"Valor\"}}},\n",
       "                        {\"responsive\": true}\n",
       "                    ).then(function(){\n",
       "                            \n",
       "var gd = document.getElementById('0139fd37-41c3-4b40-a0c5-ef60315e77dd');\n",
       "var x = new MutationObserver(function (mutations, observer) {{\n",
       "        var display = window.getComputedStyle(gd).display;\n",
       "        if (!display || display === 'none') {{\n",
       "            console.log([gd, 'removed!']);\n",
       "            Plotly.purge(gd);\n",
       "            observer.disconnect();\n",
       "        }}\n",
       "}});\n",
       "\n",
       "// Listen for the removal of the full notebook cells\n",
       "var notebookContainer = gd.closest('#notebook-container');\n",
       "if (notebookContainer) {{\n",
       "    x.observe(notebookContainer, {childList: true});\n",
       "}}\n",
       "\n",
       "// Listen for the clearing of the current output cell\n",
       "var outputEl = gd.closest('.output');\n",
       "if (outputEl) {{\n",
       "    x.observe(outputEl, {childList: true});\n",
       "}}\n",
       "\n",
       "                        })\n",
       "                };\n",
       "                });\n",
       "            </script>\n",
       "        </div>"
      ]
     },
     "metadata": {},
     "output_type": "display_data"
    },
    {
     "data": {
      "text/plain": [
       "state_id  city_name             \n",
       "GO        Aragarças                 20118\n",
       "          Arenópolis                 2612\n",
       "          Baliza                     5138\n",
       "          Bom Jardim de Goiás        8841\n",
       "          Doverlândia                7322\n",
       "          Montes Claros de Goiás     8055\n",
       "          Piranhas                  10385\n",
       "MT        Araguaiana                 3100\n",
       "          Barra do Garças           61012\n",
       "          General Carneiro           5540\n",
       "          Pontal do Araguaia         6711\n",
       "          Ribeirãozinho              2405\n",
       "          Torixoréu                  3609\n",
       "Name: population, dtype: int64"
      ]
     },
     "execution_count": 7,
     "metadata": {},
     "output_type": "execute_result"
    }
   ],
   "source": [
    "import plotly\n",
    "import plotly.graph_objects as go\n",
    "from plotly.offline import init_notebook_mode\n",
    "\n",
    "\n",
    "init_notebook_mode(connected=True)\n",
    "\n",
    "fig = go.Figure()\n",
    "\n",
    "for name, values in cities_infos.items():\n",
    "    fig.add_trace(go.Bar(\n",
    "        x=cities,\n",
    "        y=values,\n",
    "        name=feature_to_title[name],\n",
    "    ),\n",
    ")\n",
    "\n",
    "fig.update_layout(\n",
    "    title=f'Comparação de {city} com Cidades Próximas (Raio de {radius_km} km)',\n",
    "    title_x=0.5,\n",
    "    barmode='group',\n",
    "    bargap=0.4,\n",
    "    xaxis_tickangle=-30,\n",
    "    xaxis_title=f'Cidades Próximas à {city}',\n",
    "    yaxis_title='Valor',\n",
    "    font=dict(\n",
    "        family=\"Courier New, monospace\",\n",
    "        size=12,\n",
    "    ),\n",
    "    legend=dict(\n",
    "        orientation=\"h\",\n",
    "        yanchor=\"bottom\",\n",
    "        xanchor=\"right\",\n",
    "        y=1,\n",
    "        x=1\n",
    "    ),\n",
    ")\n",
    "\n",
    "fig.show()\n",
    "\n",
    "# Adicionando visualização da população absoluta (2019) de cada cidade próxima\n",
    "df[df.index.isin(nearby_cities)]['population']"
   ]
  },
  {
   "cell_type": "markdown",
   "metadata": {},
   "source": [
    "### Análise\n",
    "\n",
    "Aqui a cidade escolhida foi **Barra do Garças - Mato Grosso (MT)**. Barra do Garças e redondezas formam uma região interessante de ser análisada por estar com níveis consideráveis dos indicadores escolhidos e também está localizada na divisa entre os estados de Goiás (GO) e Mato Grosso (MT).\n",
    "\n",
    "Nesse ponto, vale comentar novamente que o critério utilizado para o agrupamento das cidades foi a distância física. Talvez o palpite de comparação mais imediato seria o de agrupar por regiões do SUS, mas as regiões do SUS não representam diretamente o movimento dos cidadãos ao escolherem um hospital, e mais relevante ainda, cada cidade pertence a apenas uma região (como pode ser checado no § 3º [desta resolução](https://bvsms.saude.gov.br/bvs/saudelegis/cit/2011/res0001_29_09_2011.html#:~:text=Estabelece%20diretrizes%20gerais%20para%20a,de%201990%2C%20e%20o%20art.) do Ministério da Saúde), ou seja, **duas cidades podem ser vizinhas e não pertecerem a mesma região do SUS.**\n",
    "\n",
    "Voltando a análise, pode-se observar que nenhum município do MT nessa região possui informações de ritmo de contágio, mesmo estando bem próximos de outros que as têm (Aragarças, no Goiás, é separada de Barra do Garças por uma ponte apenas).\n",
    "\n",
    "Outro fato digno de nota, é que mesmo com uma maior de taxa de isolamento, Barra do Garças possui uma **taxa de infectados por habitante aproximadamente 60% maior** do que sua vizinha, Aragarças. Isso provavelmente tem forte influência do volume de sua população, **aproximadamente 3x superior**. Mas também pode ter como fatores envolvidos diferentes políticas públicas entre os estados, MT e GO, ou um ritmo de evolução diferente da doença, o que poderia ser checado com a realização de uma análise temporal dos dados.\n",
    "\n",
    "Com as informações aqui apresentadas, um gestor poderia facilmente comparar o estado da doença em municípios próximos ao seu e tomar medidas de controle de trafêgo em seus limites, como aferição da temperaturas, imposição de quarentena a novos visitantes e até, talvez, uma restrição mais rígida, como o impedimento da entrada de um visitante. Uma limitação dessa abordagem seria a checagem de rotas movimentadas entre municípios distantes, por exemplo, por avião, trem ou barco."
   ]
  }
 ],
 "metadata": {
  "kernelspec": {
   "display_name": "env",
   "language": "python",
   "name": "env"
  },
  "language_info": {
   "codemirror_mode": {
    "name": "ipython",
    "version": 3
   },
   "file_extension": ".py",
   "mimetype": "text/x-python",
   "name": "python",
   "nbconvert_exporter": "python",
   "pygments_lexer": "ipython3",
   "version": "3.8.5"
  }
 },
 "nbformat": 4,
 "nbformat_minor": 4
}
