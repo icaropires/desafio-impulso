{
 "cells": [
  {
   "cell_type": "markdown",
   "metadata": {},
   "source": [
    "# Desafio de Análise de Dados"
   ]
  },
  {
   "cell_type": "markdown",
   "metadata": {},
   "source": [
    "## Cenário\n",
    "\n",
    "Apresentar informações sobre o estado de um município, com relação ao COVID-19, a um gestor, de forma que ele tenha informações suficientes para tomar decisões estratégicas. Para isso serão utilizados dados de indicadores já presentes no [FarolCovid](https://farolcovid.coronacidades.org/) (incluindo o módulo `Saúde em Ordem`), além de outros indicadores que serão calculados aqui."
   ]
  },
  {
   "cell_type": "markdown",
   "metadata": {},
   "source": [
    "## Possíveis decisões da gestão\n",
    "\n",
    "Esta análise será direcionada pelas principais possíveis decisões que um gestor de um município tem que tomar relacionadas ao tema. Aqui serão consideradas:\n",
    "\n",
    "1. Imposição de confinamento\n",
    "2. Aquisição de testes\n",
    "3. Rigidez no controle de entrada de pessoas no munícipio\n",
    "4. Abertura de Comércio\n",
    "\n",
    "Claro que outras medidas podem ser tomadas além destas, como: montagens de mais leitos, solicitação de ajuda externa, doação de alimentos, redistribuição de pacientes entre hospitais, etc. Mas estas últimas não serão diretamente referenciandas aqui."
   ]
  },
  {
   "cell_type": "markdown",
   "metadata": {},
   "source": [
    "## Visão Geral do Município"
   ]
  },
  {
   "cell_type": "markdown",
   "metadata": {},
   "source": [
    "### Comparação com municípios próximos"
   ]
  },
  {
   "cell_type": "code",
   "execution_count": 1,
   "metadata": {},
   "outputs": [],
   "source": [
    "import pandas as pd\n",
    "\n",
    "\n",
    "df = pd.read_csv('http://datasource.coronacidades.org/br/cities/cases/full')"
   ]
  },
  {
   "cell_type": "code",
   "execution_count": 2,
   "metadata": {},
   "outputs": [],
   "source": [
    "import pandas as pd\n",
    "from geopy.distance import distance\n",
    "\n",
    "\n",
    "df_states = pd.read_csv('https://raw.githubusercontent.com/kelvins/Municipios-Brasileiros/master/csv/estados.csv')\n",
    "stateabbr_to_code = df_states.set_index('codigo_uf')['uf'].to_dict()\n",
    "\n",
    "df_geo = pd.read_csv('https://raw.githubusercontent.com/kelvins/Municipios-Brasileiros/master/csv/municipios.csv')\n",
    "df_geo['uf'] = df_geo['codigo_uf'].map(stateabbr_to_code)\n",
    "df_geo.pop('codigo_uf')\n",
    "\n",
    "df_geo.set_index(['uf', 'nome'], inplace=True)\n",
    "df_geo.sort_index(inplace=True)\n",
    "\n",
    "\n",
    "# Improve speed with dict with surround states and memoization\n",
    "def get_distances(state_abbr, city_name):\n",
    "    city = df_geo.loc[state_abbr, city_name]\n",
    "    city_coords = city[['latitude', 'longitude']]\n",
    "\n",
    "    def get_distance(row):\n",
    "        this_coords = row[['latitude', 'longitude']]\n",
    "        return distance(city_coords, this_coords).km\n",
    "        \n",
    "    distances = df_geo.apply(get_distance, axis='columns')\n",
    "    distances.sort_values(inplace=True)\n",
    "    \n",
    "    return distances.rename('distance')\n",
    "\n",
    "\n",
    "def get_nearby_cities(state_abbr, city_name, radius_km):\n",
    "    distances = get_distances(state_abbr, city_name)\n",
    "    distances = distances[distances <= radius_km]\n",
    "    \n",
    "    return distances.index"
   ]
  },
  {
   "cell_type": "code",
   "execution_count": 3,
   "metadata": {},
   "outputs": [
    {
     "data": {
      "text/plain": [
       "['Joinville - SC',\n",
       " 'Araquari - SC',\n",
       " 'São Francisco do Sul - SC',\n",
       " 'Guaramirim - SC',\n",
       " 'Schroeder - SC',\n",
       " 'Balneário Barra do Sul - SC',\n",
       " 'Jaraguá do Sul - SC',\n",
       " 'Garuva - SC',\n",
       " 'Itapoá - SC',\n",
       " 'São João do Itaperiú - SC',\n",
       " 'Massaranduba - SC',\n",
       " 'Barra Velha - SC',\n",
       " 'Corupá - SC',\n",
       " 'Campo Alegre - SC',\n",
       " 'Luiz Alves - SC',\n",
       " 'São Bento do Sul - SC',\n",
       " 'Balneário Piçarras - SC',\n",
       " 'Tijucas do Sul - PR',\n",
       " 'Guaratuba - PR',\n",
       " 'Penha - SC',\n",
       " 'Pomerode - SC',\n",
       " 'Agudos do Sul - PR',\n",
       " 'Matinhos - PR',\n",
       " 'Piên - PR',\n",
       " 'Rio dos Cedros - SC',\n",
       " 'Ilhota - SC',\n",
       " 'Rio Negrinho - SC',\n",
       " 'Navegantes - SC',\n",
       " 'Itajaí - SC',\n",
       " 'Gaspar - SC',\n",
       " 'Blumenau - SC',\n",
       " 'Timbó - SC',\n",
       " 'Benedito Novo - SC',\n",
       " 'Mandirituba - PR',\n",
       " 'Indaial - SC',\n",
       " 'Pontal do Paraná - PR',\n",
       " 'Doutor Pedrinho - SC',\n",
       " 'Balneário Camboriú - SC',\n",
       " 'Quitandinha - PR',\n",
       " 'Camboriú - SC',\n",
       " 'Fazenda Rio Grande - PR',\n",
       " 'Rodeio - SC',\n",
       " 'Guabiruba - SC',\n",
       " 'Brusque - SC',\n",
       " 'Ascurra - SC',\n",
       " 'Itapema - SC',\n",
       " 'Campo do Tenente - PR',\n",
       " 'Morretes - PR',\n",
       " 'São José dos Pinhais - PR',\n",
       " 'Paranaguá - PR',\n",
       " 'Antonina - PR',\n",
       " 'Araucária - PR',\n",
       " 'Apiúna - SC',\n",
       " 'Contenda - PR',\n",
       " 'Rio Negro - PR',\n",
       " 'Piraquara - PR',\n",
       " 'Bombinhas - SC',\n",
       " 'Mafra - SC',\n",
       " 'Porto Belo - SC']"
      ]
     },
     "execution_count": 3,
     "metadata": {},
     "output_type": "execute_result"
    }
   ],
   "source": [
    "state, city = 'SC', 'Joinville'\n",
    "radius_km = 100\n",
    "\n",
    "nearby_cities = get_nearby_cities(state, city, radius_km)\n",
    "nearby_cities = [f'{city} - {uf}' for uf, city in nearby_cities]\n",
    "\n",
    "nearby_cities"
   ]
  }
 ],
 "metadata": {
  "kernelspec": {
   "display_name": "env",
   "language": "python",
   "name": "env"
  },
  "language_info": {
   "codemirror_mode": {
    "name": "ipython",
    "version": 3
   },
   "file_extension": ".py",
   "mimetype": "text/x-python",
   "name": "python",
   "nbconvert_exporter": "python",
   "pygments_lexer": "ipython3",
   "version": "3.8.5"
  }
 },
 "nbformat": 4,
 "nbformat_minor": 4
}
